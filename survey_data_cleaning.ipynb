{
 "cells": [
  {
   "cell_type": "markdown",
   "id": "respected-exercise",
   "metadata": {},
   "source": [
    "## Survey Data Cleaning\n",
    "This notebook performs data cleaning and integration for a shared data published by The Associated Press. The data is from the COVID Impact Survey, which provides statistics about physical health, mental health, economic security and social dynamics related to the covid in the USA."
   ]
  },
  {
   "cell_type": "markdown",
   "id": "adjusted-burton",
   "metadata": {},
   "source": [
    "## Step 1: importing all the libraries"
   ]
  },
  {
   "cell_type": "code",
   "execution_count": 36,
   "id": "light-title",
   "metadata": {},
   "outputs": [],
   "source": [
    "import pandas as pd\n",
    "import numpy as np"
   ]
  },
  {
   "cell_type": "markdown",
   "id": "employed-shooting",
   "metadata": {},
   "source": [
    "## Step 2: Importing all the datasets that we need to process\n",
    "The datasets are three csv files containing survey results from different months. Importing them as pandas dataframes in order to perform further operations."
   ]
  },
  {
   "cell_type": "code",
   "execution_count": 106,
   "id": "ignored-differential",
   "metadata": {},
   "outputs": [],
   "source": [
    "df1 = pd.read_csv('01_April_30_covid_impact_survey.csv')\n",
    "df2 = pd.read_csv('02_May_12_covid_impact_survey.csv')\n",
    "df3 = pd.read_csv('03_June_9_covid_impact_survey.csv')"
   ]
  },
  {
   "cell_type": "markdown",
   "id": "dangerous-rover",
   "metadata": {},
   "source": [
    "## Step 3: Do necessary data cleaning and integration\n",
    "\n",
    "Since the data is quite dirty, we need to clean the data. For example, almost all the column values from the survey are composed of an integer value followed by a string description. We as the programmer, know where the data came from and the meanings of the integer value. Thus, we could just filter out the string descriptions to make the data clean.\n",
    "\n",
    "In these datasets, we care about the results about economy. Thus, we need to extract the columns about the economy. In addition, there are some columns that we are interested in as well such as the home income and their response to the covid."
   ]
  },
  {
   "cell_type": "markdown",
   "id": "royal-angel",
   "metadata": {},
   "source": [
    "### 01_April_30_covid_impact_survey\n",
    "Most of the columns are easy to clean. What we need to do is to remove all the non-numerical characters. For future work, we convert the values to numeric. But some descriptions contains COVID-19, if we use the same method to remove the characters, we might get some unwanted results. We therefore cut the string and then remove non-numerical characters."
   ]
  },
  {
   "cell_type": "code",
   "execution_count": 110,
   "id": "binary-export",
   "metadata": {},
   "outputs": [],
   "source": [
    "# people's response to the coronavirus\n",
    "df1_PHYS = df1.iloc[:, 38:60].replace('\\D+', '', regex=True).apply(lambda x: pd.to_numeric(x))\n",
    "# economic related questions\n",
    "df1_ECON8 = df1.iloc[:, 65:84].replace('\\D+', '', regex=True).apply(lambda x: pd.to_numeric(x))\n",
    "df1_ECON7 = df1.iloc[:, 84:95].replace('\\D+', '', regex=True).apply(lambda x: pd.to_numeric(x))\n",
    "df1_ECON1 = df1.iloc[:, 95].replace('\\D+', '', regex=True).apply(lambda x: pd.to_numeric(x))\n",
    "df1_ECON4 = df1.iloc[:, [97, 99, 100]].replace('\\D+', '', regex=True).apply(lambda x: x.str[:1]).apply(lambda x: pd.to_numeric(x))\n",
    "df1_ECON6 = df1.iloc[:, 101:113].replace('\\D+', '', regex=True).apply(lambda x: pd.to_numeric(x))\n",
    "df1_ECON5 = df1.iloc[:, [113, 114]].replace('\\D+', '', regex=True).apply(lambda x: pd.to_numeric(x))\n",
    "df1_ECON = pd.concat([df1_ECON8, df1_ECON7, df1_ECON1, df1_ECON4, df1_ECON6, df1_ECON5], axis=1)\n",
    "# home income\n",
    "df1_income = df1.iloc[:, 153]\n",
    "\n",
    "df1_clean = pd.concat([df1_PHYS, df1_ECON, df1_income], axis=1)\n",
    "    "
   ]
  },
  {
   "cell_type": "markdown",
   "id": "micro-potential",
   "metadata": {},
   "source": [
    "### 02_May_12_covid_impact_survey.csv\n",
    "At beginning, we use a function to perform the redundent operation. But we found that the other two datasets have different columns from the first one. Thus, we have to perform this redundent operation to make sure that we get all the columns that we want."
   ]
  },
  {
   "cell_type": "code",
   "execution_count": 112,
   "id": "informal-wallace",
   "metadata": {},
   "outputs": [],
   "source": [
    "# people's response to the coronavirus\n",
    "df2_PHYS = df2.iloc[:, 40:62].replace('\\D+', '', regex=True).apply(lambda x: pd.to_numeric(x))\n",
    "# economic related questions\n",
    "df2_ECON8 = df2.iloc[:, 67:86].replace('\\D+', '', regex=True).apply(lambda x: pd.to_numeric(x))\n",
    "df2_ECON7 = df2.iloc[:, 86:97].replace('\\D+', '', regex=True).apply(lambda x: pd.to_numeric(x))\n",
    "df2_ECON1 = df2.iloc[:, 97].replace('\\D+', '', regex=True).apply(lambda x: pd.to_numeric(x))\n",
    "df2_ECON4 = df2.iloc[:, [99, 101, 102]].replace('\\D+', '', regex=True).apply(lambda x: x.str[:1]).apply(lambda x: pd.to_numeric(x))\n",
    "df2_ECON6 = df2.iloc[:, 103:115].replace('\\D+', '', regex=True).apply(lambda x: pd.to_numeric(x))\n",
    "df2_ECON5 = df2.iloc[:, [115, 116]].replace('\\D+', '', regex=True).apply(lambda x: pd.to_numeric(x))\n",
    "df2_ECON = pd.concat([df2_ECON8, df2_ECON7, df2_ECON1, df2_ECON4, df2_ECON6, df2_ECON5], axis=1)\n",
    "# home income\n",
    "df2_income = df2.iloc[:, 155]\n",
    "\n",
    "df2_clean = pd.concat([df2_PHYS, df2_ECON, df2_income], axis=1)"
   ]
  },
  {
   "cell_type": "markdown",
   "id": "differential-korea",
   "metadata": {},
   "source": [
    "### 03_June_9_covid_impact_survey"
   ]
  },
  {
   "cell_type": "code",
   "execution_count": 114,
   "id": "front-crisis",
   "metadata": {},
   "outputs": [],
   "source": [
    "# people's response to the coronavirus\n",
    "df3_PHYS = df3.iloc[:, 40:62].replace('\\D+', '', regex=True).apply(lambda x: pd.to_numeric(x))\n",
    "# economic related questions\n",
    "df3_ECON8 = df3.iloc[:, 67:86].replace('\\D+', '', regex=True).apply(lambda x: pd.to_numeric(x))\n",
    "df3_ECON7 = df3.iloc[:, 86:97].replace('\\D+', '', regex=True).apply(lambda x: pd.to_numeric(x))\n",
    "df3_ECON1 = df3.iloc[:, 97].replace('\\D+', '', regex=True).apply(lambda x: pd.to_numeric(x))\n",
    "df3_ECON4 = df3.iloc[:, [99, 101, 102]].replace('\\D+', '', regex=True).apply(lambda x: x.str[:1]).apply(lambda x: pd.to_numeric(x))\n",
    "df3_ECON6 = df3.iloc[:, 103:115].replace('\\D+', '', regex=True).apply(lambda x: pd.to_numeric(x))\n",
    "df3_ECON5 = df3.iloc[:, [115, 116]].replace('\\D+', '', regex=True).apply(lambda x: pd.to_numeric(x))\n",
    "df3_ECON = pd.concat([df3_ECON8, df3_ECON7, df3_ECON1, df3_ECON4, df3_ECON6, df3_ECON5], axis=1)\n",
    "# home income\n",
    "df3_income = df3.iloc[:, 155]\n",
    "\n",
    "df3_clean = pd.concat([df3_PHYS, df3_ECON, df3_income], axis=1)"
   ]
  },
  {
   "cell_type": "code",
   "execution_count": null,
   "id": "smooth-concrete",
   "metadata": {},
   "outputs": [],
   "source": []
  }
 ],
 "metadata": {
  "kernelspec": {
   "display_name": "6513",
   "language": "python",
   "name": "6513"
  },
  "language_info": {
   "codemirror_mode": {
    "name": "ipython",
    "version": 3
   },
   "file_extension": ".py",
   "mimetype": "text/x-python",
   "name": "python",
   "nbconvert_exporter": "python",
   "pygments_lexer": "ipython3",
   "version": "3.8.8"
  }
 },
 "nbformat": 4,
 "nbformat_minor": 5
}
