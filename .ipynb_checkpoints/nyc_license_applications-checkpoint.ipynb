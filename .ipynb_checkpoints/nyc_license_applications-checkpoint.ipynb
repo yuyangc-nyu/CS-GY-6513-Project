{
 "cells": [
  {
   "cell_type": "code",
   "execution_count": 1,
   "metadata": {},
   "outputs": [],
   "source": [
    "import numpy as np\n",
    "import pandas as pd\n"
   ]
  },
  {
   "cell_type": "markdown",
   "metadata": {},
   "source": [
    "### Dataset Introduction\n",
    "\n",
    "This data set features license applications received during the last and current calendar years, including applications where a license was issued, denied, withdrawn, or remains pending. https://data.cityofnewyork.us/Business/License-Applications/ptev-4hud\n",
    "\n",
    "As for this task, we would like to clean the data so that we can further explore the relationship between the covid-19 and the operation of businesses, we find all the applications that are approved since the COVID-19 pandemic outbreak, which is Feb 2020. Then we count the number of monthly applications and compare it with the severity of the pandemic.\n",
    "\n",
    "Because processing of the applications might take a long time, we count the applications based on the start date of the applications."
   ]
  },
  {
   "cell_type": "code",
   "execution_count": null,
   "metadata": {},
   "outputs": [],
   "source": [
    "filepath = 'License_Applications.csv'\n",
    "csv_data = pd.read_csv(filepath, low_memory=False)\n"
   ]
  },
  {
   "cell_type": "code",
   "execution_count": null,
   "metadata": {},
   "outputs": [],
   "source": [
    "selected_cols = ['Business Name', 'License Type', 'Status', 'Start Date', 'City']\n",
    "data = csv_data[selected_cols]\n",
    "date = '2020/01/01'\n",
    "def dateAfter(x):\n",
    "    if (len(x) == 10):\n",
    "        return (x[6:10]+'/'+x[0:5]) >= date\n",
    "    else:\n",
    "        return False\n",
    "data = data[data['Start Date'].map(dateAfter)]\n",
    "data['Year'] = data['Start Date'].map(lambda x: x[6:10])\n",
    "data['Month'] = data['Start Date'].map(lambda x: x[0:2])\n",
    "data['Day'] = data['Start Date'].map(lambda x: x[3:5])"
   ]
  },
  {
   "cell_type": "code",
   "execution_count": null,
   "metadata": {},
   "outputs": [],
   "source": [
    "display(data)"
   ]
  },
  {
   "cell_type": "markdown",
   "metadata": {},
   "source": [
    "We then count the numbers of applications for each month."
   ]
  },
  {
   "cell_type": "code",
   "execution_count": null,
   "metadata": {},
   "outputs": [],
   "source": [
    "df = pd.DataFrame({'month': ['01/2020','02/2020','03/2020',\n",
    "                             '04/2020','05/2020','06/2020',\n",
    "                             '07/2020','08/2020','09/2020',\n",
    "                             '10/2020','11/2020','12/2020',\n",
    "                             '01/2021','02/2021','03/2021'],\n",
    "                   'count': [0,0,0,0,0,0,0,0,0,0,0,0,0,0,0]\n",
    "                  })\n",
    "dictionary = {}\n",
    "for i in df.index:\n",
    "    dictionary[df.loc[i]['month']] = 0"
   ]
  },
  {
   "cell_type": "code",
   "execution_count": null,
   "metadata": {},
   "outputs": [],
   "source": [
    "for i in data.index:\n",
    "    dictionary[data.loc[i]['Month'] + '/' + data.loc[i]['Year']] += 1"
   ]
  },
  {
   "cell_type": "code",
   "execution_count": null,
   "metadata": {},
   "outputs": [],
   "source": [
    "for i in df.index:\n",
    "    df['count'] = df['month'].map(lambda x: dictionary[x])"
   ]
  },
  {
   "cell_type": "code",
   "execution_count": null,
   "metadata": {},
   "outputs": [],
   "source": [
    "display(df)"
   ]
  },
  {
   "cell_type": "markdown",
   "metadata": {},
   "source": [
    "For this task, we collect the new cases and new deaths for each month in NYC.\n",
    "\n",
    "The data is collected from https://github.com/nytimes/covid-19-data/blob/master/us-states.csv"
   ]
  },
  {
   "cell_type": "code",
   "execution_count": null,
   "metadata": {},
   "outputs": [],
   "source": [
    "filepath = 'us-states.csv'\n",
    "csv_data = pd.read_csv(filepath)"
   ]
  },
  {
   "cell_type": "code",
   "execution_count": null,
   "metadata": {},
   "outputs": [],
   "source": [
    "data = csv_data[csv_data['state'] == 'New York']\n",
    "data = data[data['date'].map(lambda x: x in\n",
    "            ['2020-03-01','2020-04-01','2020-05-01','2020-06-01',\n",
    "             '2020-07-01','2020-08-01','2020-09-01','2020-10-01',\n",
    "             '2020-11-01','2020-12-01','2021-01-01','2021-02-01',\n",
    "             '2021-03-01','2021-03-29'])]"
   ]
  },
  {
   "cell_type": "code",
   "execution_count": null,
   "metadata": {},
   "outputs": [],
   "source": [
    "prev = 0\n",
    "prev2 = 0\n",
    "arr = []\n",
    "arr2 = []\n",
    "for i in data.index:\n",
    "    arr.append(data.loc[i]['cases'] - prev)\n",
    "    arr2.append(data.loc[i]['deaths'] - prev)\n",
    "    prev = data.loc[i]['cases']\n",
    "    prev = data.loc[i]['deaths']"
   ]
  },
  {
   "cell_type": "code",
   "execution_count": null,
   "metadata": {},
   "outputs": [],
   "source": [
    "data.loc[:,'new_cases'] = arr\n",
    "data.loc[:,'new_deaths'] = arr2\n",
    "display(data)"
   ]
  }
 ],
 "metadata": {
  "kernelspec": {
   "display_name": "Python 3",
   "language": "python",
   "name": "python3"
  },
  "language_info": {
   "codemirror_mode": {
    "name": "ipython",
    "version": 3
   },
   "file_extension": ".py",
   "mimetype": "text/x-python",
   "name": "python",
   "nbconvert_exporter": "python",
   "pygments_lexer": "ipython3",
   "version": "3.7.6"
  }
 },
 "nbformat": 4,
 "nbformat_minor": 4
}
