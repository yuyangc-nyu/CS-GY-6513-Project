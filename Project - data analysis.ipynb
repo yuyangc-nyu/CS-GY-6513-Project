{
 "cells": [
  {
   "cell_type": "markdown",
   "metadata": {},
   "source": [
    "# CS-GY 6513 Final Project - Data Analysis"
   ]
  },
  {
   "cell_type": "markdown",
   "metadata": {},
   "source": [
    "## Macro-level Economic Data Analysis"
   ]
  },
  {
   "cell_type": "markdown",
   "metadata": {},
   "source": [
    "First, we want to import all the libraries used.\n",
    "(Notice that since I run PySpark on my own PC, I use findspark package)"
   ]
  },
  {
   "cell_type": "code",
   "execution_count": 1,
   "metadata": {},
   "outputs": [],
   "source": [
    "import findspark\n",
    "findspark.init()"
   ]
  },
  {
   "cell_type": "code",
   "execution_count": 2,
   "metadata": {},
   "outputs": [],
   "source": [
    "import numpy as np\n",
    "import pandas as pd\n",
    "import os\n",
    "import math\n",
    "import time\n",
    "import csv\n",
    "import matplotlib.pyplot as plt\n",
    "import pyspark"
   ]
  },
  {
   "cell_type": "code",
   "execution_count": 3,
   "metadata": {},
   "outputs": [],
   "source": [
    "from pyspark import SparkContext\n",
    "from pyspark.sql import SQLContext, SparkSession\n",
    "from pyspark.ml.linalg import DenseMatrix, Vectors\n",
    "from pyspark.ml.stat import Correlation"
   ]
  },
  {
   "cell_type": "markdown",
   "metadata": {},
   "source": [
    "We then use the preprocessed data covid_analysis.csv to do data analysis."
   ]
  },
  {
   "cell_type": "code",
   "execution_count": 4,
   "metadata": {},
   "outputs": [
    {
     "name": "stdout",
     "output_type": "stream",
     "text": [
      "Start Date, Cases at Start, Case Increase, Dow Jones Adjusted Close, Dow Jones Difference, Gasoline Price, Unemployment Initial Claims, Grocery and Pharmacy Mobility, Residential Mobility, Retail and Recreation Mobility\n",
      "2020-02-17, 25, 18, 28992.41, -3583.05, 2.518, 220000, 0.43, 0.71, 3.57\n",
      "2020-02-24, 43, 61, 25409.36, 455.42, 2.555, 217000, 3.71, -0.71, 7.71\n",
      "2020-03-02, 104, 644, 25864.78, -2679.16, 2.514, 211000, 6.71, -1.0, 8.43\n",
      "2020-03-09, 748, 3759, 23185.62, -4011.64, 2.468, 282000, 14.57, 1.57, 1.86\n",
      "2020-03-16, 4507, 38998, 19173.98, 2462.8, 2.343, 3307000, 5.71, 12.29, -27.71\n",
      "2020-03-23, 43505, 120450, 21636.78, -584.25, 2.217, 6867000, -15.43, 17.57, -42.0\n",
      "2020-03-30, 163955, 205102, 21052.53, 2666.84, 2.103, 6615000, -14.71, 18.57, -42.29\n",
      "2020-04-06, 369057, 214961, 23719.37, 523.12, 2.022, 5237000, -16.71, 19.29, -45.71\n",
      "2020-04-13, 584018, 200973, 24242.49, -467.22, 1.951, 4442000, -16.43, 18.43, -41.71\n",
      "2020-04-20, 784991, 209202, 23775.27, -51.58, 1.91, 3867000, -14.43, 17.71, -39.71\n"
     ]
    }
   ],
   "source": [
    "input_file = open('covid_analysis.csv', newline='')\n",
    "reader_analysis = csv.reader(input_file, delimiter=',')\n",
    "count = 0\n",
    "for row in reader_analysis:\n",
    "    if count > 10:\n",
    "        break\n",
    "    count = count + 1\n",
    "    print(', '.join(row))"
   ]
  },
  {
   "cell_type": "markdown",
   "metadata": {},
   "source": [
    "We extract the data that we need from the preprocessed data file into vectors."
   ]
  },
  {
   "cell_type": "code",
   "execution_count": 5,
   "metadata": {},
   "outputs": [],
   "source": [
    "analysis_idx = ['Start Date', 'Cases at Start', 'Case Increase', 'Dow Jones Adjusted Close', 'Dow Jones Difference', 'Gasoline Price', 'Unemployment Initial Claims', 'Grocery and Pharmacy Mobility', 'Residential Mobility', 'Retail and Recreation Mobility']\n",
    "input_file.seek(0)\n",
    "start_date = []\n",
    "case_total = []\n",
    "case_increase = []\n",
    "dow_close = []\n",
    "dow_diff = []\n",
    "gaso = []\n",
    "unemployment = []\n",
    "grocery_pharmacy = []\n",
    "residential = []\n",
    "retail_recreation = []\n",
    "collection = []\n",
    "\n",
    "\n",
    "for row in reader_analysis:\n",
    "    if row[0] == 'Start Date':\n",
    "        continue\n",
    "    start_date.append(row[analysis_idx.index('Start Date')])\n",
    "    case_total.append(float(row[analysis_idx.index('Cases at Start')]))\n",
    "    case_increase.append(float(row[analysis_idx.index('Case Increase')]))\n",
    "    dow_close.append(float(row[analysis_idx.index('Dow Jones Adjusted Close')]))\n",
    "    dow_diff.append(float(row[analysis_idx.index('Dow Jones Difference')]))\n",
    "    gaso.append(float(row[analysis_idx.index('Gasoline Price')]))\n",
    "    unemployment.append(float(row[analysis_idx.index('Unemployment Initial Claims')]))\n",
    "    grocery_pharmacy.append(float(row[analysis_idx.index('Grocery and Pharmacy Mobility')]))\n",
    "    residential.append(float(row[analysis_idx.index('Residential Mobility')]))\n",
    "    retail_recreation.append(float(row[analysis_idx.index('Retail and Recreation Mobility')]))\n",
    "    collection.append([Vectors.dense([float(row[analysis_idx.index('Cases at Start')]),\n",
    "                                      float(row[analysis_idx.index('Case Increase')]),\n",
    "                                      float(row[analysis_idx.index('Dow Jones Adjusted Close')]),\n",
    "                                      float(row[analysis_idx.index('Dow Jones Difference')]),\n",
    "                                      float(row[analysis_idx.index('Gasoline Price')]),\n",
    "                                      float(row[analysis_idx.index('Unemployment Initial Claims')]),\n",
    "                                      float(row[analysis_idx.index('Grocery and Pharmacy Mobility')]),\n",
    "                                      float(row[analysis_idx.index('Residential Mobility')]),\n",
    "                                      float(row[analysis_idx.index('Retail and Recreation Mobility')])])])"
   ]
  },
  {
   "cell_type": "markdown",
   "metadata": {},
   "source": [
    "We plot COVID-19 total cases and case increase as line chart."
   ]
  },
  {
   "cell_type": "code",
   "execution_count": 6,
   "metadata": {},
   "outputs": [
    {
     "data": {
      "image/png": "[encoded data removed]",
      "text/plain": [
       "<Figure size 432x288 with 1 Axes>"
      ]
     },
     "metadata": {},
     "output_type": "display_data"
    }
   ],
   "source": [
    "plt.plot(start_date, case_total,'o-',color = 'r',label=\"Total Cases\")#s-:方形\n",
    "#plt.bar(start_date, case_increase, color = \"g\",width=0.5,label='ATT-LSTM ')\n",
    "plt.xticks([])\n",
    "plt.ylabel(\"COVID Cases\")#纵坐标名字\n",
    "plt.legend(loc = \"best\")#图例\n",
    "plt.show()"
   ]
  },
  {
   "cell_type": "code",
   "execution_count": 7,
   "metadata": {},
   "outputs": [
    {
     "data": {
      "image/png": "[encoded data removed]",
      "text/plain": [
       "<Figure size 432x288 with 1 Axes>"
      ]
     },
     "metadata": {},
     "output_type": "display_data"
    }
   ],
   "source": [
    "plt.plot(start_date, case_increase,'o-',color = 'g',label=\"Case Increase\")#o-:圆形\n",
    "plt.xticks([])\n",
    "plt.ylabel(\"COVID Cases\")#纵坐标名字\n",
    "plt.legend(loc = \"best\")#图例\n",
    "plt.show()"
   ]
  },
  {
   "cell_type": "markdown",
   "metadata": {},
   "source": [
    "We then use PySpark SQL to calculate the correlation between different indices of economic data.\n"
   ]
  },
  {
   "cell_type": "markdown",
   "metadata": {},
   "source": [
    "Here we are using the Correlation function provided in pyspark.ml.stat library to calculate the correlation matrix. From the correlation matrix we can determine which economic indices are more related to the COVID-19 pandemic."
   ]
  },
  {
   "cell_type": "code",
   "execution_count": 8,
   "metadata": {},
   "outputs": [],
   "source": [
    "spark = SparkSession.builder.appName(\"Spark SQL basic example\").config(\"spark.network.timeout\",\"2000s\").getOrCreate()\n",
    "#dataset = [[Vectors.dense(case_total)], [Vectors.dense(case_increase)], [Vectors.dense(dow_close)], [Vectors.dense(dow_diff)], [Vectors.dense(gaso)], [Vectors.dense(unemployment)], [Vectors.dense(grocery_pharmacy)], [Vectors.dense(residential)], [Vectors.dense(retail_recreation)]]\n",
    "#dataset = spark.createDataFrame(dataset, ['features'])\n",
    "dataset2 = spark.createDataFrame(collection, ['features'])\n",
    "pearsonCorr = Correlation.corr(dataset2, 'features', 'pearson').collect()[0][0]"
   ]
  },
  {
   "cell_type": "code",
   "execution_count": 37,
   "metadata": {
    "scrolled": true
   },
   "outputs": [
    {
     "name": "stdout",
     "output_type": "stream",
     "text": [
      "DenseMatrix([[ 1.        ,  0.92611798,  0.81772202,  0.04955597,  0.32351369,\n",
      "              -0.42665612, -0.36504868,  0.03054489, -0.04377617],\n",
      "             [ 0.92611798,  1.        ,  0.74701272,  0.10981626,  0.191598  ,\n",
      "              -0.32224826, -0.37289256,  0.14002779, -0.12160999],\n",
      "             [ 0.81772202,  0.74701272,  1.        , -0.2101954 ,  0.3913995 ,\n",
      "              -0.7093283 , -0.16938472, -0.31420667,  0.31287391],\n",
      "             [ 0.04955597,  0.10981626, -0.2101954 ,  1.        , -0.35138349,\n",
      "               0.30623187, -0.32576737,  0.45943974, -0.4531475 ],\n",
      "             [ 0.32351369,  0.191598  ,  0.3913995 , -0.35138349,  1.        ,\n",
      "              -0.56791274,  0.41242617, -0.73085986,  0.70962911],\n",
      "             [-0.42665612, -0.32224826, -0.7093283 ,  0.30623187, -0.56791274,\n",
      "               1.        , -0.50026068,  0.78507125, -0.80464747],\n",
      "             [-0.36504868, -0.37289256, -0.16938472, -0.32576737,  0.41242617,\n",
      "              -0.50026068,  1.        , -0.70894043,  0.77245639],\n",
      "             [ 0.03054489,  0.14002779, -0.31420667,  0.45943974, -0.73085986,\n",
      "               0.78507125, -0.70894043,  1.        , -0.97853924],\n",
      "             [-0.04377617, -0.12160999,  0.31287391, -0.4531475 ,  0.70962911,\n",
      "              -0.80464747,  0.77245639, -0.97853924,  1.        ]])\n"
     ]
    }
   ],
   "source": [
    "print(str(pearsonCorr).replace('nan', 'NaN'))"
   ]
  }
 ],
 "metadata": {
  "kernelspec": {
   "display_name": "Python 3",
   "language": "python",
   "name": "python3"
  },
  "language_info": {
   "codemirror_mode": {
    "name": "ipython",
    "version": 3
   },
   "file_extension": ".py",
   "mimetype": "text/x-python",
   "name": "python",
   "nbconvert_exporter": "python",
   "pygments_lexer": "ipython3",
   "version": "3.6.5"
  }
 },
 "nbformat": 4,
 "nbformat_minor": 2
}
